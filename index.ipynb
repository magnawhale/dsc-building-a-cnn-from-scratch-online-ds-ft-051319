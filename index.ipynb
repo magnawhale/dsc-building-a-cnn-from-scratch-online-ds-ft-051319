{
 "cells": [
  {
   "cell_type": "markdown",
   "metadata": {},
   "source": [
    "# Building a CNN from Scratch - Lab\n",
    "\n",
    "## Introduction\n",
    "\n",
    "Now that you have background knowledge regarding how CNNs work and how to implement them via Keras, its time to practice those skills a little more independently in order to build a CNN on your own to solve a image recognition problem. In this lab, you'll practice building an image classifier from start to finish using a CNN.  \n",
    "\n",
    "## Objectives\n",
    "\n",
    "You will be able to:\n",
    "* Transform images into tensors\n",
    "* Build a CNN model for image recognition"
   ]
  },
  {
   "cell_type": "markdown",
   "metadata": {},
   "source": [
    "## Loading the Images\n",
    "\n",
    "The data for this lab concerns classifying lung xray images for pneumonia. The original dataset is from kaggle. We have downsampled this dataset in order to reduce training time for you when you design and fit your model to the data. It is anticipated that this process will take approximately 1 hour to run on a standard machine, although times will vary depending on your particular computer and set up. At the end of this lab, you are welcome to try training on the complete dataset and observe the impact on the model's overall accuracy. \n",
    "\n",
    "You can find the initial downsampled dataset in a subdirectory, **chest_xray**, of this repository."
   ]
  },
  {
   "cell_type": "code",
   "execution_count": 1,
   "metadata": {},
   "outputs": [
    {
     "name": "stderr",
     "output_type": "stream",
     "text": [
      "Using TensorFlow backend.\n"
     ]
    }
   ],
   "source": [
    "import matplotlib.pyplot as plt\n",
    "import numpy as np\n",
    "from keras.preprocessing.image import ImageDataGenerator\n",
    "from keras import models, layers, optimizers\n",
    "\n",
    "np.random.seed(42)"
   ]
  },
  {
   "cell_type": "code",
   "execution_count": 16,
   "metadata": {},
   "outputs": [],
   "source": [
    "train_dir = 'chest_xray_downsampled/train'\n",
    "validation_dir = 'chest_xray_downsampled/val/'\n",
    "test_dir = 'chest_xray_downsampled/test/'"
   ]
  },
  {
   "cell_type": "code",
   "execution_count": 17,
   "metadata": {},
   "outputs": [
    {
     "name": "stdout",
     "output_type": "stream",
     "text": [
      "Found 1738 images belonging to 2 classes.\n",
      "Found 4 images belonging to 2 classes.\n"
     ]
    }
   ],
   "source": [
    "# All images will be rescaled by 1./255\n",
    "train_datagen = ImageDataGenerator(rescale=1./255)\n",
    "test_datagen = ImageDataGenerator(rescale=1./255)\n",
    "\n",
    "train_generator = train_datagen.flow_from_directory(\n",
    "        # This is the target directory\n",
    "        train_dir,\n",
    "        # All images will be resized to 150x150\n",
    "        target_size=(150, 150),\n",
    "        batch_size=20,\n",
    "        # Since we use binary_crossentropy loss, we need binary labels\n",
    "        class_mode='binary')\n",
    "\n",
    "validation_generator = test_datagen.flow_from_directory(\n",
    "        validation_dir,\n",
    "        target_size=(150, 150),\n",
    "        batch_size=20,\n",
    "        class_mode='binary')"
   ]
  },
  {
   "cell_type": "markdown",
   "metadata": {},
   "source": [
    "## Designing the Model\n",
    "\n",
    "Now it's time to design your CNN! Remember a few things when doing this: \n",
    "* You should alternate convolutional and pooling layers\n",
    "* You should have later layers have a larger number of parameters in order to detect more abstract patterns\n",
    "* Add some final dense layers to add a classifier to the convolutional base"
   ]
  },
  {
   "cell_type": "code",
   "execution_count": 18,
   "metadata": {},
   "outputs": [],
   "source": [
    "#Your code here; design and compile the model\n",
    "model = models.Sequential()\n",
    "model.add(layers.Conv2D(32, (3, 3), activation='relu',\n",
    "                        input_shape=(150 ,150,  3)))\n",
    "model.add(layers.MaxPooling2D((2, 2)))\n",
    "\n",
    "model.add(layers.Conv2D(64, (3, 3), activation='relu'))\n",
    "model.add(layers.MaxPooling2D((2, 2)))\n",
    "\n",
    "model.add(layers.Conv2D(128, (3, 3), activation='relu'))\n",
    "model.add(layers.MaxPooling2D((2, 2)))\n",
    "\n",
    "model.add(layers.Conv2D(128, (3, 3), activation='relu'))\n",
    "model.add(layers.MaxPooling2D((2, 2)))\n",
    "\n",
    "model.add(layers.Flatten())\n",
    "model.add(layers.Dense(512, activation='relu'))\n",
    "model.add(layers.Dense(1, activation='sigmoid'))"
   ]
  },
  {
   "cell_type": "code",
   "execution_count": 19,
   "metadata": {},
   "outputs": [],
   "source": [
    "from keras import optimizers\n",
    "model.compile(loss='binary_crossentropy',\n",
    "              optimizer=optimizers.RMSprop(lr=1e-4),\n",
    "              metrics=['acc'])"
   ]
  },
  {
   "cell_type": "markdown",
   "metadata": {},
   "source": [
    "## Training and Evaluating the Model\n",
    "\n",
    "Remember that training deep networks is resource intensive: depending on the size of the data, even a CNN with 3-4 successive convolutional and pooling layers is apt to take a hours to train on a high end laptop. Using 30 epochs and 8 layers (alternating between convolutional and pooling), our model took about 40 minutes to run on a year old macbook pro.\n",
    "\n",
    "\n",
    "If you are concerned with runtime, you may want to set your model to run the training epochs overnight.  \n",
    "\n",
    "**If you are going to run this process overnight, be sure to also script code for the following questions concerning data augmentation. Check your code twice (or more) and then set the notebook to run all, or something equivalent to have them train overnight.**"
   ]
  },
  {
   "cell_type": "code",
   "execution_count": 21,
   "metadata": {
    "scrolled": true
   },
   "outputs": [
    {
     "name": "stdout",
     "output_type": "stream",
     "text": [
      "Epoch 1/30\n",
      "100/100 [==============================] - 69s 685ms/step - loss: 4.0848 - acc: 0.7438 - val_loss: 7.9712 - val_acc: 0.5000\n",
      "Epoch 2/30\n",
      "100/100 [==============================] - 71s 708ms/step - loss: 4.1672 - acc: 0.7386 - val_loss: 7.9712 - val_acc: 0.5000\n",
      "Epoch 3/30\n",
      "100/100 [==============================] - 74s 743ms/step - loss: 4.0387 - acc: 0.7467 - val_loss: 7.9712 - val_acc: 0.5000\n",
      "Epoch 4/30\n",
      "100/100 [==============================] - 76s 757ms/step - loss: 4.1211 - acc: 0.7415 - val_loss: 7.9712 - val_acc: 0.5000\n",
      "Epoch 5/30\n",
      "100/100 [==============================] - 75s 749ms/step - loss: 4.1592 - acc: 0.7391 - val_loss: 7.9712 - val_acc: 0.5000\n",
      "Epoch 6/30\n",
      "100/100 [==============================] - 74s 744ms/step - loss: 4.0680 - acc: 0.7448 - val_loss: 7.9712 - val_acc: 0.5000\n",
      "Epoch 7/30\n",
      "100/100 [==============================] - 75s 746ms/step - loss: 4.0564 - acc: 0.7456 - val_loss: 7.9712 - val_acc: 0.5000\n",
      "Epoch 8/30\n",
      "100/100 [==============================] - 80s 797ms/step - loss: 4.0325 - acc: 0.7471 - val_loss: 7.9712 - val_acc: 0.5000\n",
      "Epoch 9/30\n",
      "100/100 [==============================] - 83s 831ms/step - loss: 4.3044 - acc: 0.7300 - val_loss: 7.9712 - val_acc: 0.5000\n",
      "Epoch 10/30\n",
      "100/100 [==============================] - 80s 802ms/step - loss: 3.9856 - acc: 0.7500 - val_loss: 7.9712 - val_acc: 0.5000\n",
      "Epoch 11/30\n",
      "100/100 [==============================] - 76s 759ms/step - loss: 4.0449 - acc: 0.7463 - val_loss: 7.9712 - val_acc: 0.5000\n",
      "Epoch 12/30\n",
      "100/100 [==============================] - 79s 788ms/step - loss: 4.0919 - acc: 0.7433 - val_loss: 7.9712 - val_acc: 0.5000\n",
      "Epoch 13/30\n",
      "100/100 [==============================] - 76s 760ms/step - loss: 4.1557 - acc: 0.7393 - val_loss: 7.9712 - val_acc: 0.5000\n",
      "Epoch 14/30\n",
      "100/100 [==============================] - 74s 743ms/step - loss: 3.9803 - acc: 0.7503 - val_loss: 7.9712 - val_acc: 0.5000\n",
      "Epoch 15/30\n",
      "100/100 [==============================] - 77s 772ms/step - loss: 4.1902 - acc: 0.7372 - val_loss: 7.9712 - val_acc: 0.5000\n",
      "Epoch 16/30\n",
      "100/100 [==============================] - 74s 736ms/step - loss: 4.0139 - acc: 0.7482 - val_loss: 7.9712 - val_acc: 0.5000\n",
      "Epoch 17/30\n",
      "100/100 [==============================] - 75s 747ms/step - loss: 4.1689 - acc: 0.7385 - val_loss: 7.9712 - val_acc: 0.5000\n",
      "Epoch 18/30\n",
      "100/100 [==============================] - 73s 733ms/step - loss: 4.0857 - acc: 0.7437 - val_loss: 7.9712 - val_acc: 0.5000\n",
      "Epoch 19/30\n",
      "100/100 [==============================] - 73s 729ms/step - loss: 4.0573 - acc: 0.7455 - val_loss: 7.9712 - val_acc: 0.5000\n",
      "Epoch 20/30\n",
      "100/100 [==============================] - 74s 737ms/step - loss: 4.1813 - acc: 0.7377 - val_loss: 7.9712 - val_acc: 0.5000\n",
      "Epoch 21/30\n",
      "100/100 [==============================] - 75s 750ms/step - loss: 4.0520 - acc: 0.7458 - val_loss: 7.9712 - val_acc: 0.5000\n",
      "Epoch 22/30\n",
      "100/100 [==============================] - 75s 747ms/step - loss: 4.2593 - acc: 0.7328 - val_loss: 7.9712 - val_acc: 0.5000\n",
      "Epoch 23/30\n",
      "100/100 [==============================] - 74s 737ms/step - loss: 3.9714 - acc: 0.7509 - val_loss: 7.9712 - val_acc: 0.5000\n",
      "Epoch 24/30\n",
      "100/100 [==============================] - 75s 745ms/step - loss: 4.1565 - acc: 0.7393 - val_loss: 7.9712 - val_acc: 0.5000\n",
      "Epoch 25/30\n",
      "100/100 [==============================] - 74s 741ms/step - loss: 4.1450 - acc: 0.7400 - val_loss: 7.9712 - val_acc: 0.5000\n",
      "Epoch 26/30\n",
      "100/100 [==============================] - 75s 748ms/step - loss: 4.0352 - acc: 0.7469 - val_loss: 7.9712 - val_acc: 0.5000\n",
      "Epoch 27/30\n",
      "100/100 [==============================] - 73s 731ms/step - loss: 4.1238 - acc: 0.7413 - val_loss: 7.9712 - val_acc: 0.5000\n",
      "Epoch 28/30\n",
      "100/100 [==============================] - 74s 736ms/step - loss: 4.0874 - acc: 0.7436 - val_loss: 7.9712 - val_acc: 0.5000\n",
      "Epoch 29/30\n",
      "100/100 [==============================] - 73s 728ms/step - loss: 3.9803 - acc: 0.7503 - val_loss: 7.9712 - val_acc: 0.5000\n",
      "Epoch 30/30\n",
      "100/100 [==============================] - 75s 748ms/step - loss: 4.1973 - acc: 0.7367 - val_loss: 7.9712 - val_acc: 0.5000\n"
     ]
    }
   ],
   "source": [
    "#Set the model to train; see warnings above\n",
    "history = model.fit_generator(train_generator,\n",
    "                              steps_per_epoch=100,\n",
    "                              epochs=30,\n",
    "                              validation_data=validation_generator,\n",
    "                              validation_steps=50)"
   ]
  },
  {
   "cell_type": "code",
   "execution_count": 22,
   "metadata": {},
   "outputs": [
    {
     "data": {
      "image/png": "[encoded data removed]",
      "text/plain": [
       "<Figure size 720x576 with 1 Axes>"
      ]
     },
     "metadata": {
      "needs_background": "light"
     },
     "output_type": "display_data"
    },
    {
     "data": {
      "image/png": "[encoded data removed]",
      "text/plain": [
       "<Figure size 720x576 with 1 Axes>"
      ]
     },
     "metadata": {
      "needs_background": "light"
     },
     "output_type": "display_data"
    }
   ],
   "source": [
    "# Plot history\n",
    "%matplotlib inline \n",
    "\n",
    "acc = history.history['acc']\n",
    "val_acc = history.history['val_acc']\n",
    "loss = history.history['loss']\n",
    "val_loss = history.history['val_loss']\n",
    "epochs = range(len(acc))\n",
    "\n",
    "plt.figure(figsize=(10,8))\n",
    "plt.plot(epochs, acc, 'bo', label='Training acc')\n",
    "plt.plot(epochs, val_acc, 'b', label='Validation acc')\n",
    "plt.title('Training and validation accuracy')\n",
    "plt.legend()\n",
    "\n",
    "plt.figure(figsize=(10,8))\n",
    "plt.plot(epochs, loss, 'bo', label='Training loss')\n",
    "plt.plot(epochs, val_loss, 'b', label='Validation loss')\n",
    "plt.title('Training and validation loss')\n",
    "plt.legend();"
   ]
  },
  {
   "cell_type": "markdown",
   "metadata": {},
   "source": [
    "## Save the Model"
   ]
  },
  {
   "cell_type": "code",
   "execution_count": 23,
   "metadata": {},
   "outputs": [],
   "source": [
    "model.save('chest_xray_downsampled_data.h5')"
   ]
  },
  {
   "cell_type": "markdown",
   "metadata": {},
   "source": [
    "## Data Augmentation\n",
    "\n",
    "Recall that data augmentation is typically always a necessary step when using a small dataset as this one which you have been provided. As such, if you haven't already, implement a data augmentation setup.\n",
    "\n",
    "**Warning: This process took nearly 4 hours to run on a relatively new macbook pro. As such, it is recommended that you simply code the setup and compare to the solution branch, or set the process to run overnight if you do choose to actually run the code.**"
   ]
  },
  {
   "cell_type": "code",
   "execution_count": null,
   "metadata": {},
   "outputs": [],
   "source": [
    "#Add data augmentation to the model setup and set the model to train; \n",
    "#See warnings above if you intend to run this block of code\n",
    "\n",
    "train_datagen = ImageDataGenerator(\n",
    "      rotation_range=40,\n",
    "      width_shift_range=0.2,\n",
    "      height_shift_range=0.2,\n",
    "      shear_range=0.2,\n",
    "      zoom_range=0.2,\n",
    "      horizontal_flip=True,\n",
    "      fill_mode='nearest')\n",
    "\n",
    "test_datagen = ImageDataGenerator(rescale=1./255)\n",
    "\n",
    "train_generator = train_datagen.flow_from_directory(\n",
    "        # This is the target directory\n",
    "        train_dir,\n",
    "        # All images will be resized to 150x150\n",
    "        target_size=(150, 150),\n",
    "        batch_size=32,\n",
    "        # Since we use binary_crossentropy loss, we need binary labels\n",
    "        class_mode='binary')\n",
    "\n",
    "validation_generator = test_datagen.flow_from_directory(\n",
    "        validation_dir,\n",
    "        target_size=(150, 150),\n",
    "        batch_size=32,\n",
    "        class_mode='binary')\n",
    "\n",
    "history = model.fit_generator(\n",
    "      train_generator,\n",
    "      steps_per_epoch=100,\n",
    "      epochs=100,\n",
    "      validation_data=validation_generator,\n",
    "      validation_steps=50)"
   ]
  },
  {
   "cell_type": "code",
   "execution_count": null,
   "metadata": {},
   "outputs": [],
   "source": [
    "acc = history.history['acc']\n",
    "val_acc = history.history['val_acc']\n",
    "loss = history.history['loss']\n",
    "val_loss = history.history['val_loss']\n",
    "epochs = range(len(acc))\n",
    "plt.plot(epochs, acc, 'bo', label='Training acc')\n",
    "plt.plot(epochs, val_acc, 'b', label='Validation acc')\n",
    "plt.title('Training and validation accuracy')\n",
    "plt.legend()\n",
    "plt.figure()\n",
    "plt.plot(epochs, loss, 'bo', label='Training loss')\n",
    "plt.plot(epochs, val_loss, 'b', label='Validation loss')\n",
    "plt.title('Training and validation loss')\n",
    "plt.legend();"
   ]
  },
  {
   "cell_type": "markdown",
   "metadata": {},
   "source": [
    "## Final Evaluation\n",
    "\n",
    "Now use the test set to perform a final evaluation on your model of choice."
   ]
  },
  {
   "cell_type": "code",
   "execution_count": 24,
   "metadata": {},
   "outputs": [
    {
     "name": "stdout",
     "output_type": "stream",
     "text": [
      "Found 208 images belonging to 2 classes.\n",
      "test acc: 0.6292016850549633\n"
     ]
    }
   ],
   "source": [
    "# Your code here; perform a final evaluation using the test set..\n",
    "test_generator = test_datagen.flow_from_directory(\n",
    "        test_dir,\n",
    "        target_size=(150, 150),\n",
    "        batch_size=20,\n",
    "        class_mode='binary')\n",
    "test_loss, test_acc = model.evaluate_generator(test_generator, steps=50)\n",
    "print('test acc:', test_acc)"
   ]
  },
  {
   "cell_type": "markdown",
   "metadata": {},
   "source": [
    "## Extension: Adding Data to the Model\n",
    "\n",
    "As discussed, the current dataset we worked with is a subset of a dataset hosted on Kaggle. Increasing the data that we use to train the model will result in additional performance gains but will also result in longer training times and be more resource intensive.   \n",
    "\n",
    "It is estimated that training on the full dataset will take approximately 4 hours (and potentially significantly longer) depending on your computer's specifications.\n",
    "\n",
    "In order to test the impact of training on the full dataset, start by downloading the data from kaggle here: https://www.kaggle.com/paultimothymooney/chest-xray-pneumonia.   "
   ]
  },
  {
   "cell_type": "code",
   "execution_count": null,
   "metadata": {},
   "outputs": [],
   "source": [
    "#Optional extension; Your code here"
   ]
  },
  {
   "cell_type": "markdown",
   "metadata": {},
   "source": [
    "## Summary\n",
    "\n",
    "Well done! In this lab, you practice building your own CNN for image recognition which drastically outperformed our previous attempts using a standard deep learning model alone. In the upcoming sections, we'll continue to investigate further techniques associated with CNNs including visualizing the representations they learn and techniques to further bolster their performance when we have limited training data such as here."
   ]
  }
 ],
 "metadata": {
  "kernelspec": {
   "display_name": "Python [conda env:learn-env] *",
   "language": "python",
   "name": "conda-env-learn-env-py"
  },
  "language_info": {
   "codemirror_mode": {
    "name": "ipython",
    "version": 3
   },
   "file_extension": ".py",
   "mimetype": "text/x-python",
   "name": "python",
   "nbconvert_exporter": "python",
   "pygments_lexer": "ipython3",
   "version": "3.6.6"
  }
 },
 "nbformat": 4,
 "nbformat_minor": 2
}
